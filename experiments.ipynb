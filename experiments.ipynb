{
 "cells": [
  {
   "cell_type": "markdown",
   "metadata": {},
   "source": [
    "### This notebook is to experiment with simple tic-tac-toe bot"
   ]
  },
  {
   "cell_type": "markdown",
   "metadata": {},
   "source": [
    "Imports:"
   ]
  },
  {
   "cell_type": "code",
   "execution_count": 1,
   "metadata": {},
   "outputs": [],
   "source": [
    "import easyAI as eai\n",
    "import numpy as np\n",
    "from easyAI import TwoPlayerGame\n",
    "from easyAI.Player import Human_Player\n",
    "from utils import TicTacToe, run_game"
   ]
  },
  {
   "cell_type": "markdown",
   "metadata": {},
   "source": [
    "The code below runs a AI vs AI game of classic tic-tac-toe\n",
    "\n",
    "The function run_game is defined in the utils file"
   ]
  },
  {
   "cell_type": "code",
   "execution_count": 2,
   "metadata": {},
   "outputs": [
    {
     "name": "stdout",
     "output_type": "stream",
     "text": [
      "Summary after 100 games:\n",
      "AI 1 wins: 51\n",
      "AI 2 wins: 49\n",
      "Draws: 0\n",
      "Average decision time for AI 1: 0.0005 seconds\n",
      "Average decision time for AI 2: 0.0004 seconds\n"
     ]
    }
   ],
   "source": [
    "run_game(number_of_games=100)"
   ]
  },
  {
   "cell_type": "markdown",
   "metadata": {},
   "source": [
    "Without any modifications to the game (without probabilistic approach) and with the same depth level of the Negamax algorithm for both players, the games are draws-only. \n",
    "\n",
    "Let's switch to the probabilistic variant:"
   ]
  },
  {
   "cell_type": "code",
   "execution_count": 3,
   "metadata": {},
   "outputs": [
    {
     "name": "stdout",
     "output_type": "stream",
     "text": [
      "Summary after 100 games:\n",
      "AI 1 wins: 52\n",
      "AI 2 wins: 46\n",
      "Draws: 2\n",
      "Average decision time for AI 1: 0.0005 seconds\n",
      "Average decision time for AI 2: 0.0004 seconds\n"
     ]
    }
   ],
   "source": [
    "run_game(number_of_games=100, probabilistic=True)"
   ]
  },
  {
   "cell_type": "markdown",
   "metadata": {},
   "source": [
    "And different negamax depths for both AIs:"
   ]
  },
  {
   "cell_type": "code",
   "execution_count": 4,
   "metadata": {},
   "outputs": [
    {
     "name": "stdout",
     "output_type": "stream",
     "text": [
      "Summary after 100 games:\n",
      "AI 1 wins: 50\n",
      "AI 2 wins: 47\n",
      "Draws: 3\n",
      "Average decision time for AI 1: 0.0001 seconds\n",
      "Average decision time for AI 2: 0.0001 seconds\n"
     ]
    }
   ],
   "source": [
    "run_game(number_of_games=100, probabilistic=True, negamax_1=2, negamax_2=2)"
   ]
  },
  {
   "cell_type": "code",
   "execution_count": 5,
   "metadata": {},
   "outputs": [
    {
     "name": "stdout",
     "output_type": "stream",
     "text": [
      "Summary after 100 games:\n",
      "AI 1 wins: 25\n",
      "AI 2 wins: 45\n",
      "Draws: 30\n",
      "Average decision time for AI 1: 0.0049 seconds\n",
      "Average decision time for AI 2: 0.0046 seconds\n"
     ]
    }
   ],
   "source": [
    "run_game(number_of_games=100, probabilistic=True, negamax_1=6, negamax_2=6)"
   ]
  },
  {
   "cell_type": "code",
   "execution_count": 6,
   "metadata": {},
   "outputs": [
    {
     "name": "stdout",
     "output_type": "stream",
     "text": [
      "Summary after 100 games:\n",
      "AI 1 wins: 47\n",
      "AI 2 wins: 53\n",
      "Draws: 0\n",
      "Average decision time for AI 1: 0.0001 seconds\n",
      "Average decision time for AI 2: 0.0001 seconds\n"
     ]
    }
   ],
   "source": [
    "run_game(number_of_games=100, probabilistic=True, negamax_1=1, negamax_2=1)"
   ]
  },
  {
   "cell_type": "code",
   "execution_count": 7,
   "metadata": {},
   "outputs": [
    {
     "name": "stdout",
     "output_type": "stream",
     "text": [
      "Summary after 100 games:\n",
      "AI 1 wins: 56\n",
      "AI 2 wins: 22\n",
      "Draws: 22\n",
      "Average decision time for AI 1: 0.0009 seconds\n",
      "Average decision time for AI 2: 0.0001 seconds\n"
     ]
    }
   ],
   "source": [
    "run_game(number_of_games=100, probabilistic=True, negamax_1=4, negamax_2=2)"
   ]
  },
  {
   "cell_type": "code",
   "execution_count": 8,
   "metadata": {},
   "outputs": [
    {
     "name": "stdout",
     "output_type": "stream",
     "text": [
      "Summary after 100 games:\n",
      "AI 1 wins: 81\n",
      "AI 2 wins: 19\n",
      "Draws: 0\n",
      "Average decision time for AI 1: 0.0056 seconds\n",
      "Average decision time for AI 2: 0.0001 seconds\n"
     ]
    }
   ],
   "source": [
    "run_game(number_of_games=100, probabilistic=True, negamax_1=6, negamax_2=1)"
   ]
  },
  {
   "cell_type": "markdown",
   "metadata": {},
   "source": [
    "Now, add alpha-beta pruning:"
   ]
  },
  {
   "cell_type": "code",
   "execution_count": 9,
   "metadata": {},
   "outputs": [
    {
     "name": "stdout",
     "output_type": "stream",
     "text": [
      "Summary after 100 games:\n",
      "AI 1 wins: 53\n",
      "AI 2 wins: 47\n",
      "Draws: 0\n",
      "Average decision time for AI 1: 0.0004 seconds\n",
      "Average decision time for AI 2: 0.0004 seconds\n"
     ]
    }
   ],
   "source": [
    "run_game(number_of_games=100, probabilistic=True, negamax_1=3, negamax_2=3, win_score=10)"
   ]
  },
  {
   "cell_type": "markdown",
   "metadata": {},
   "source": [
    "And let's try with expecti-minimax algorithm"
   ]
  },
  {
   "cell_type": "code",
   "execution_count": null,
   "metadata": {},
   "outputs": [
    {
     "name": "stdout",
     "output_type": "stream",
     "text": [
      "Summary after 100 games:\n",
      "AI 1 wins: 43\n",
      "AI 2 wins: 32\n",
      "Draws: 25\n",
      "Average decision time for AI 1: 0.0003 seconds\n",
      "Average decision time for AI 2: 0.0003 seconds\n"
     ]
    }
   ],
   "source": [
    "run_game(number_of_games=100, probabilistic=True, negamax_1=3, negamax_2=3, win_score=10, algorithm=\"expectiminimax\")"
   ]
  },
  {
   "cell_type": "code",
   "execution_count": null,
   "metadata": {},
   "outputs": [],
   "source": []
  }
 ],
 "metadata": {
  "kernelspec": {
   "display_name": "venv",
   "language": "python",
   "name": "python3"
  },
  "language_info": {
   "codemirror_mode": {
    "name": "ipython",
    "version": 3
   },
   "file_extension": ".py",
   "mimetype": "text/x-python",
   "name": "python",
   "nbconvert_exporter": "python",
   "pygments_lexer": "ipython3",
   "version": "3.12.4"
  }
 },
 "nbformat": 4,
 "nbformat_minor": 2
}
